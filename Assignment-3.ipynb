{
 "cells": [
  {
   "cell_type": "markdown",
   "metadata": {},
   "source": [
    "### Assignment: Understanding Scope in Python\n",
    "- Create a global variable x with the value 10. Write a function example() where you define a local variable x with the value 5. Inside the function, print the value of the local x. After calling the function, print the global x. What do you notice about the two values of x?\n",
    "\n",
    "- Create a global variable y with the value 15. Write a function modify_y() that uses the global keyword to change the value of y to 30. Call the function and print the value of y before and after calling the function.\n",
    "\n",
    "- Write a function add(a, b) that takes two parameters and prints their sum. Call the function with different values for a and b, and then print the values of a and b outside the function. What happens when you try to print a or b outside?\n",
    "\n",
    "- Write a function show_name() where you define a local variable name with the value \"Ali\". Inside the function, print name. After calling the function, try to print name outside the function. What error do you get?"
   ]
  },
  {
   "cell_type": "code",
   "execution_count": null,
   "metadata": {},
   "outputs": [
    {
     "name": "stdout",
     "output_type": "stream",
     "text": [
      "Local Scope value = 5\n",
      "Global Scope Value = 10\n"
     ]
    }
   ],
   "source": [
    "x = 10\n",
    "def example():\n",
    "    x = 5\n",
    "    print('Local Scope value =', x)\n",
    "\n",
    "# Calling Function\n",
    "example()\n",
    "\n",
    "print('Global Scope Value =', x)\n",
    "\n",
    "\n",
    "# In above code I have observed that x = 5 (Local scope Variable) maintain its scope and does not let the global variable 'x' to override its value..\n",
    "# And X = 5 only limits to only function example(), which cannot be accessible outside the function meanwhile X = 10 is available for the entire code. "
   ]
  },
  {
   "cell_type": "code",
   "execution_count": 9,
   "metadata": {},
   "outputs": [
    {
     "name": "stdout",
     "output_type": "stream",
     "text": [
      "30\n"
     ]
    }
   ],
   "source": [
    "y = 15\n",
    "\n",
    "def modify_y():\n",
    "    global y  # Helps in accessing global variable\n",
    "    y = 30  # modifying global variable\n",
    "\n",
    "modify_y()\n",
    "\n",
    "print(y)\n"
   ]
  },
  {
   "cell_type": "code",
   "execution_count": 12,
   "metadata": {},
   "outputs": [
    {
     "name": "stdout",
     "output_type": "stream",
     "text": [
      "5\n"
     ]
    },
    {
     "ename": "NameError",
     "evalue": "name 'a' is not defined",
     "output_type": "error",
     "traceback": [
      "\u001b[1;31m---------------------------------------------------------------------------\u001b[0m",
      "\u001b[1;31mNameError\u001b[0m                                 Traceback (most recent call last)",
      "Cell \u001b[1;32mIn[12], line 7\u001b[0m\n\u001b[0;32m      3\u001b[0m     \u001b[38;5;28mprint\u001b[39m(result)\n\u001b[0;32m      5\u001b[0m add(\u001b[38;5;241m2\u001b[39m,\u001b[38;5;241m3\u001b[39m)\n\u001b[1;32m----> 7\u001b[0m \u001b[38;5;28mprint\u001b[39m(\u001b[43ma\u001b[49m,b)\n\u001b[0;32m      9\u001b[0m \u001b[38;5;66;03m# After calling a,b parameters outside the function, i am getting error of not defined..\u001b[39;00m\n",
      "\u001b[1;31mNameError\u001b[0m: name 'a' is not defined"
     ]
    }
   ],
   "source": [
    "def add(a,b):\n",
    "    result = a + b\n",
    "    print(result)\n",
    "\n",
    "add(2,3)\n",
    "\n",
    "print(a,b)\n",
    "\n",
    "# After calling a,b parameters outside the function, i am getting error of not defined..\n"
   ]
  },
  {
   "cell_type": "code",
   "execution_count": 15,
   "metadata": {},
   "outputs": [
    {
     "name": "stdout",
     "output_type": "stream",
     "text": [
      "Ali\n"
     ]
    },
    {
     "ename": "NameError",
     "evalue": "name 'name' is not defined",
     "output_type": "error",
     "traceback": [
      "\u001b[1;31m---------------------------------------------------------------------------\u001b[0m",
      "\u001b[1;31mNameError\u001b[0m                                 Traceback (most recent call last)",
      "Cell \u001b[1;32mIn[15], line 6\u001b[0m\n\u001b[0;32m      3\u001b[0m     \u001b[38;5;28mprint\u001b[39m(name)\n\u001b[0;32m      4\u001b[0m show_name()\n\u001b[1;32m----> 6\u001b[0m \u001b[38;5;28mprint\u001b[39m(\u001b[43mname\u001b[49m)\n\u001b[0;32m      8\u001b[0m \u001b[38;5;66;03m#  Getting error of Not Define\u001b[39;00m\n",
      "\u001b[1;31mNameError\u001b[0m: name 'name' is not defined"
     ]
    }
   ],
   "source": [
    "def show_name():\n",
    "    name = \"Ali\"\n",
    "    print(name)\n",
    "show_name()\n",
    "\n",
    "print(name)\n",
    "\n",
    "#  Getting error of Not Define"
   ]
  },
  {
   "cell_type": "code",
   "execution_count": null,
   "metadata": {},
   "outputs": [],
   "source": []
  },
  {
   "cell_type": "code",
   "execution_count": null,
   "metadata": {},
   "outputs": [],
   "source": []
  },
  {
   "cell_type": "code",
   "execution_count": null,
   "metadata": {},
   "outputs": [],
   "source": []
  }
 ],
 "metadata": {
  "kernelspec": {
   "display_name": "Python 3",
   "language": "python",
   "name": "python3"
  },
  "language_info": {
   "codemirror_mode": {
    "name": "ipython",
    "version": 3
   },
   "file_extension": ".py",
   "mimetype": "text/x-python",
   "name": "python",
   "nbconvert_exporter": "python",
   "pygments_lexer": "ipython3",
   "version": "3.12.3"
  }
 },
 "nbformat": 4,
 "nbformat_minor": 2
}
