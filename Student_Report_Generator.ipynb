{
 "cells": [
  {
   "cell_type": "markdown",
   "metadata": {
    "vscode": {
     "languageId": "plaintext"
    }
   },
   "source": [
    "### Capstone Project: <h3 style = \"text-align: center\"> <u>**Student Report Generator** </u> </h3>"
   ]
  },
  {
   "cell_type": "code",
   "execution_count": 62,
   "metadata": {},
   "outputs": [],
   "source": [
    "# Storing student name\n",
    "def get_info():\n",
    "    name = input('Enter your Name => ')\n",
    "    print(f\"Student Name: {name}\")\n",
    "    # return name\n"
   ]
  },
  {
   "cell_type": "code",
   "execution_count": null,
   "metadata": {},
   "outputs": [],
   "source": []
  },
  {
   "cell_type": "code",
   "execution_count": 63,
   "metadata": {},
   "outputs": [],
   "source": [
    "# Score List Function\n",
    "def get_scores():\n",
    "    scores_list = []\n",
    "    for i in range(3):\n",
    "        score = int(input('Enter Student Score =>'))\n",
    "        scores_list.append(score)\n",
    "    print(f\"Scores: {scores_list}\")\n",
    "\n",
    "    # Total Marks\n",
    "    obt_marks = sum(scores_list)\n",
    "    print(f\"Obtained Marks = {obt_marks}.\")\n",
    "\n",
    "    # Average Marks\n",
    "    global avg_marks \n",
    "    avg_marks = obt_marks/len(scores_list)\n",
    "    print(f\"Average Marks = {avg_marks}.\")"
   ]
  },
  {
   "cell_type": "code",
   "execution_count": 64,
   "metadata": {},
   "outputs": [],
   "source": [
    "# Grading System\n",
    "def grading():\n",
    "    if avg_marks >=90 and avg_marks <= 100:\n",
    "        print(\"Grade A\")\n",
    "    elif avg_marks >= 70 and avg_marks <=89:\n",
    "        print(\"Grade B\")\n",
    "    elif avg_marks <= 50 and avg_marks >= 69:\n",
    "        print(\"Grade C\")\n",
    "    else:\n",
    "        print(\"Below 50\")"
   ]
  },
  {
   "cell_type": "code",
   "execution_count": 65,
   "metadata": {},
   "outputs": [
    {
     "name": "stdout",
     "output_type": "stream",
     "text": [
      "Student Report\n",
      "Student Name: Usama\n",
      "Scores: [88, 77, 99]\n",
      "Obtained Marks = 264.\n",
      "Average Marks = 88.0.\n",
      "Grade B\n"
     ]
    }
   ],
   "source": [
    "def display_report():\n",
    "    print(\"Student Report\")\n",
    "    # Display Student Name\n",
    "    get_info()\n",
    "    # Display Score List\n",
    "    get_scores()\n",
    "    # Display Gradings\n",
    "    grading()\n",
    "\n",
    "display_report()    "
   ]
  },
  {
   "cell_type": "code",
   "execution_count": null,
   "metadata": {},
   "outputs": [],
   "source": []
  },
  {
   "cell_type": "code",
   "execution_count": null,
   "metadata": {},
   "outputs": [],
   "source": []
  },
  {
   "cell_type": "code",
   "execution_count": null,
   "metadata": {},
   "outputs": [],
   "source": []
  },
  {
   "cell_type": "code",
   "execution_count": null,
   "metadata": {},
   "outputs": [],
   "source": []
  },
  {
   "cell_type": "code",
   "execution_count": null,
   "metadata": {},
   "outputs": [],
   "source": []
  },
  {
   "cell_type": "code",
   "execution_count": null,
   "metadata": {},
   "outputs": [],
   "source": []
  },
  {
   "cell_type": "code",
   "execution_count": null,
   "metadata": {},
   "outputs": [],
   "source": []
  },
  {
   "cell_type": "code",
   "execution_count": null,
   "metadata": {},
   "outputs": [],
   "source": []
  }
 ],
 "metadata": {
  "kernelspec": {
   "display_name": "Python 3",
   "language": "python",
   "name": "python3"
  },
  "language_info": {
   "codemirror_mode": {
    "name": "ipython",
    "version": 3
   },
   "file_extension": ".py",
   "mimetype": "text/x-python",
   "name": "python",
   "nbconvert_exporter": "python",
   "pygments_lexer": "ipython3",
   "version": "3.12.3"
  }
 },
 "nbformat": 4,
 "nbformat_minor": 2
}
