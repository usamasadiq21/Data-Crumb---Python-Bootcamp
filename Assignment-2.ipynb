{
 "cells": [
  {
   "cell_type": "markdown",
   "metadata": {},
   "source": [
    "### Assignment 2\n",
    "#### Swapping values of Variables"
   ]
  },
  {
   "cell_type": "code",
   "execution_count": 1,
   "metadata": {},
   "outputs": [],
   "source": [
    "num1 = input('Enter First Number')"
   ]
  },
  {
   "cell_type": "code",
   "execution_count": 2,
   "metadata": {},
   "outputs": [],
   "source": [
    "num2 = input('Enter Second Number')"
   ]
  },
  {
   "cell_type": "code",
   "execution_count": 3,
   "metadata": {},
   "outputs": [],
   "source": [
    "# Swapping Numbers\n",
    "num1, num2 = num2, num1"
   ]
  },
  {
   "cell_type": "code",
   "execution_count": 5,
   "metadata": {},
   "outputs": [
    {
     "name": "stdout",
     "output_type": "stream",
     "text": [
      "Num-1 = 88, \n",
      "Num-2 = 3\n"
     ]
    }
   ],
   "source": [
    "print(f'Num-1 = {num1}, \\nNum-2 = {num2}')"
   ]
  },
  {
   "cell_type": "code",
   "execution_count": null,
   "metadata": {},
   "outputs": [],
   "source": []
  },
  {
   "cell_type": "code",
   "execution_count": 2,
   "metadata": {},
   "outputs": [
    {
     "name": "stdout",
     "output_type": "stream",
     "text": [
      "Children not allowed\n"
     ]
    }
   ],
   "source": [
    "height = int(input('Enter Height = '))\n",
    "if height > 120:\n",
    "    print('Can Ride')\n",
    "else:\n",
    "    print('Children not allowed')"
   ]
  },
  {
   "cell_type": "code",
   "execution_count": 3,
   "metadata": {},
   "outputs": [
    {
     "name": "stdout",
     "output_type": "stream",
     "text": [
      "Number is Even\n"
     ]
    }
   ],
   "source": [
    "# Checking Number is ODD or EVEN\n",
    "num = int(input('Enter any number ='))\n",
    "if num % 2 == 0:\n",
    "    print('Number is Even')\n",
    "else:\n",
    "    print('Number id ODD.')"
   ]
  },
  {
   "cell_type": "code",
   "execution_count": null,
   "metadata": {},
   "outputs": [
    {
     "name": "stdout",
     "output_type": "stream",
     "text": [
      "['saad', 'usama', 'shamim']\n"
     ]
    }
   ],
   "source": [
    "import random\n",
    "nameList = []\n",
    "for i in range(3):\n",
    "    names = input('Enter Names..')\n",
    "    nameList.append(names)\n",
    "print(nameList)\n",
    "\n",
    "print(nameList)\n",
    "bill_person = nameList[random.randint(0,2)]\n",
    "print(f'{bill_person} will pay the bill..')\n",
    "    "
   ]
  },
  {
   "cell_type": "code",
   "execution_count": 4,
   "metadata": {},
   "outputs": [
    {
     "name": "stdout",
     "output_type": "stream",
     "text": [
      "[43, 43]\n",
      "86\n",
      "43.0\n"
     ]
    }
   ],
   "source": [
    "# AVG HEIGHT CALCULATION\n",
    "users_height = []\n",
    "for i in range(0,2):\n",
    "    height_input = int(input('Enter Heights...'))\n",
    "    users_height.append(height_input)\n",
    "\n",
    "print(users_height)\n",
    "\n",
    "height_sum = 0\n",
    "for height in users_height:\n",
    "    height_sum = height_sum + height\n",
    "\n",
    "print(height_sum)\n",
    "# Avg Calculation\n",
    "avg = height_sum/len(users_height)\n",
    "print(avg)\n"
   ]
  },
  {
   "cell_type": "code",
   "execution_count": 10,
   "metadata": {},
   "outputs": [
    {
     "name": "stdout",
     "output_type": "stream",
     "text": [
      "[33, 11]\n",
      "33\n"
     ]
    }
   ],
   "source": [
    "users_score = []\n",
    "for i in range(0,2):\n",
    "    score = int(input('Enter Heights...'))\n",
    "    users_score.append(score)\n",
    "\n",
    "print(users_score)\n",
    "\n",
    "max_score = 0\n",
    "for scr in users_score:\n",
    "    if max_score < scr:\n",
    "        max_score = scr\n",
    "\n",
    "print(max_score)         \n"
   ]
  },
  {
   "cell_type": "code",
   "execution_count": null,
   "metadata": {},
   "outputs": [],
   "source": [
    "even_num = []\n",
    "\n",
    "for i in range(1,101):\n",
    "    if i % 2 == 0:\n",
    "        even_num = even_num + i\n",
    "print(even_num)"
   ]
  },
  {
   "cell_type": "code",
   "execution_count": 6,
   "metadata": {},
   "outputs": [
    {
     "name": "stdout",
     "output_type": "stream",
     "text": [
      "Favorite color 1 = red\n",
      "Favorite color 2 = pink\n",
      "Favorite color 3 = blue\n",
      "Favorite color 4 = purple\n"
     ]
    }
   ],
   "source": [
    "colors = []\n",
    "for i in range(4):\n",
    "    colorName = input('Enter Color Name = ')\n",
    "    colors.append(colorName)\n",
    "for index, color in enumerate(colors):\n",
    "    print(f'Favorite color {index + 1} = {color}')\n",
    "\n",
    "\n"
   ]
  },
  {
   "cell_type": "code",
   "execution_count": 7,
   "metadata": {},
   "outputs": [
    {
     "name": "stdout",
     "output_type": "stream",
     "text": [
      "Welcome to the Guessing Game!\n",
      "I have chosen a number between 1 and 10. Try to guess it!\n",
      "Too low! Try again.\n",
      "Too low! Try again.\n",
      "Too high! Try again.\n",
      "Too low! Try again.\n",
      "Too low! Try again.\n",
      "Too low! Try again.\n",
      "Too low! Try again.\n",
      "Too low! Try again.\n",
      "Too low! Try again.\n",
      "Too low! Try again.\n",
      "Too low! Try again.\n",
      "Too low! Try again.\n",
      "Congratulations! You guessed the correct number!\n",
      "Thanks for playing!\n"
     ]
    }
   ],
   "source": [
    "import random\n",
    "\n",
    "secret_number = random.randint(1, 10)\n",
    "\n",
    "print(\"Welcome to the Guessing Game!\")\n",
    "print(\"I have chosen a number between 1 and 10. Try to guess it!\")\n",
    "\n",
    "user_guess = None\n",
    "\n",
    "while user_guess != secret_number:\n",
    "        user_guess = int(input(\"Enter your guess: \"))\n",
    "        if user_guess < secret_number:\n",
    "            print(\"Too low! Try again.\")\n",
    "        elif user_guess > secret_number:\n",
    "            print(\"Too high! Try again.\")\n",
    "        else:\n",
    "            print(\"Congratulations! You guessed the correct number!\")\n",
    "print(\"Thanks for playing!\")\n",
    "\n"
   ]
  },
  {
   "cell_type": "code",
   "execution_count": 12,
   "metadata": {},
   "outputs": [
    {
     "name": "stdout",
     "output_type": "stream",
     "text": [
      "4 x 1 = 4\n",
      "4 x 2 = 8\n",
      "4 x 3 = 12\n",
      "4 x 4 = 16\n",
      "4 x 5 = 20\n",
      "4 x 6 = 24\n",
      "4 x 7 = 28\n",
      "4 x 8 = 32\n",
      "4 x 9 = 36\n",
      "4 x 10 = 40\n"
     ]
    }
   ],
   "source": [
    "def table(table_digit):\n",
    "    for i in range(10):\n",
    "        print(f'{table_digit} x {i+1} = {table_digit*(i+1)}')\n",
    "\n",
    "table(4)"
   ]
  },
  {
   "cell_type": "code",
   "execution_count": null,
   "metadata": {},
   "outputs": [],
   "source": []
  }
 ],
 "metadata": {
  "kernelspec": {
   "display_name": "Python 3",
   "language": "python",
   "name": "python3"
  },
  "language_info": {
   "codemirror_mode": {
    "name": "ipython",
    "version": 3
   },
   "file_extension": ".py",
   "mimetype": "text/x-python",
   "name": "python",
   "nbconvert_exporter": "python",
   "pygments_lexer": "ipython3",
   "version": "3.12.3"
  }
 },
 "nbformat": 4,
 "nbformat_minor": 2
}
