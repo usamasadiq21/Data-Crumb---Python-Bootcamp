{
 "cells": [
  {
   "cell_type": "markdown",
   "metadata": {},
   "source": [
    "### Assignment 01: Dictionaries\n",
    "1. Create a dictionary called student with the following key-value pairs:\n",
    "  - name: \"Abis\"\n",
    "  - age: 24\n",
    "  - grade: \"A\"\n",
    "  - subject: \"Mathematics\"\n",
    "\n",
    "2. Print the name and subject of the student.\n",
    "3. Update the grade to \"A+.\"\n",
    "4. Add a new key-value pair: institute with the value \"Data Crumbs\"\n",
    "5. Remove the subject key from the dictionary.\n",
    "6. Count the total number of key-value pairs in the dictionary.\n",
    "7. Write a loop to print all the keys in the dictionary.\n",
    "8. Write a loop to print all the values in the dictionary."
   ]
  },
  {
   "cell_type": "code",
   "execution_count": 9,
   "metadata": {},
   "outputs": [
    {
     "name": "stdout",
     "output_type": "stream",
     "text": [
      "{'name': 'Abis', 'age': 24, 'grade': 'A', 'subject': 'Mathematics'}\n"
     ]
    }
   ],
   "source": [
    "student = {\n",
    "    \"name\": \"Abis\",\n",
    "    \"age\": 24,\n",
    "    \"grade\": \"A\",\n",
    "    \"subject\": \"Mathematics\"\n",
    "}\n",
    "\n",
    "print(student)"
   ]
  },
  {
   "cell_type": "code",
   "execution_count": 14,
   "metadata": {},
   "outputs": [
    {
     "name": "stdout",
     "output_type": "stream",
     "text": [
      "Name of Student = Abis\n",
      "Subject Name = Mathematics\n"
     ]
    }
   ],
   "source": [
    "print(f'Name of Student = {student[\"name\"]}')\n",
    "print(f'Subject Name = {student[\"subject\"]}')\n"
   ]
  },
  {
   "cell_type": "code",
   "execution_count": 15,
   "metadata": {},
   "outputs": [
    {
     "data": {
      "text/plain": [
       "{'name': 'Abis', 'age': 24, 'grade': 'A+', 'subject': 'Mathematics'}"
      ]
     },
     "execution_count": 15,
     "metadata": {},
     "output_type": "execute_result"
    }
   ],
   "source": [
    "student[\"grade\"] = \"A+\"\n",
    "student"
   ]
  },
  {
   "cell_type": "code",
   "execution_count": 16,
   "metadata": {},
   "outputs": [
    {
     "data": {
      "text/plain": [
       "{'name': 'Abis',\n",
       " 'age': 24,\n",
       " 'grade': 'A+',\n",
       " 'subject': 'Mathematics',\n",
       " 'institute': 'DataCrumb'}"
      ]
     },
     "execution_count": 16,
     "metadata": {},
     "output_type": "execute_result"
    }
   ],
   "source": [
    "student['institute'] = \"DataCrumb\"\n",
    "student"
   ]
  },
  {
   "cell_type": "code",
   "execution_count": 17,
   "metadata": {},
   "outputs": [],
   "source": [
    "del student[\"subject\"]"
   ]
  },
  {
   "cell_type": "code",
   "execution_count": 18,
   "metadata": {},
   "outputs": [
    {
     "data": {
      "text/plain": [
       "{'name': 'Abis', 'age': 24, 'grade': 'A+', 'institute': 'DataCrumb'}"
      ]
     },
     "execution_count": 18,
     "metadata": {},
     "output_type": "execute_result"
    }
   ],
   "source": [
    "student"
   ]
  },
  {
   "cell_type": "code",
   "execution_count": 25,
   "metadata": {},
   "outputs": [
    {
     "name": "stdout",
     "output_type": "stream",
     "text": [
      "Keys = 4\n",
      "Values = 4\n"
     ]
    }
   ],
   "source": [
    "print(f'Keys = {len(student.keys())}')\n",
    "print(f'Values = {len(student.values())}')\n"
   ]
  },
  {
   "cell_type": "code",
   "execution_count": 30,
   "metadata": {},
   "outputs": [
    {
     "name": "stdout",
     "output_type": "stream",
     "text": [
      "name\n",
      "age\n",
      "grade\n",
      "institute\n"
     ]
    }
   ],
   "source": [
    "for key in student:\n",
    "    print(key)"
   ]
  },
  {
   "cell_type": "code",
   "execution_count": 35,
   "metadata": {},
   "outputs": [
    {
     "name": "stdout",
     "output_type": "stream",
     "text": [
      "Abis\n",
      "24\n",
      "A+\n",
      "DataCrumb\n"
     ]
    }
   ],
   "source": [
    "for value in student.values():\n",
    "    print(value)"
   ]
  },
  {
   "cell_type": "markdown",
   "metadata": {},
   "source": [
    "### Assignment 02: Nested Dictionaries\n",
    "1. Create a dictionary named person with:\n",
    "\n",
    " - name: \"Ahmed\"\n",
    " - age: 28\n",
    " - address: A dictionary with:\n",
    " - city: \"Karachi\"\n",
    " - zip: \"74400\"\n",
    "2. Print the name and city from the person dictionary.\n",
    "\n",
    "3. Add a new key-value pair to the person dictionary:\n",
    " - email: \"ahmed@datacrumbs.com\"\n",
    " - Update the age to 29.\n",
    "\n",
    "4. Remove the zip key from the address dictionary."
   ]
  },
  {
   "cell_type": "code",
   "execution_count": 43,
   "metadata": {},
   "outputs": [
    {
     "data": {
      "text/plain": [
       "{'name': 'Ahmed', 'age': 28, 'address': {'city': 'Karachi', 'zip': '74400'}}"
      ]
     },
     "execution_count": 43,
     "metadata": {},
     "output_type": "execute_result"
    }
   ],
   "source": [
    "person = {\n",
    "    \"name\": \"Ahmed\",\n",
    "    \"age\": 28,\n",
    "    \"address\": {\n",
    "        \"city\": \"Karachi\",\n",
    "        \"zip\": \"74400\"\n",
    "    },\n",
    "}\n",
    "\n",
    "person"
   ]
  },
  {
   "cell_type": "code",
   "execution_count": 45,
   "metadata": {},
   "outputs": [
    {
     "name": "stdout",
     "output_type": "stream",
     "text": [
      "Name = Ahmed, \n",
      "City = Karachi\n"
     ]
    }
   ],
   "source": [
    "print(f\"Name = {person[\"name\"]}, \\nCity = {person[\"address\"][\"city\"]}\")\n"
   ]
  },
  {
   "cell_type": "code",
   "execution_count": 47,
   "metadata": {},
   "outputs": [
    {
     "data": {
      "text/plain": [
       "{'name': 'Abis',\n",
       " 'age': 29,\n",
       " 'grade': 'A+',\n",
       " 'institute': 'DataCrumb',\n",
       " 'email': 'ahmed@gmail.com'}"
      ]
     },
     "execution_count": 47,
     "metadata": {},
     "output_type": "execute_result"
    }
   ],
   "source": [
    "student[\"email\"] = \"ahmed@gmail.com\"\n",
    "student[\"age\"] = 29\n",
    "student"
   ]
  },
  {
   "cell_type": "code",
   "execution_count": 48,
   "metadata": {},
   "outputs": [
    {
     "data": {
      "text/plain": [
       "{'name': 'Ahmed', 'age': 28, 'address': {'city': 'Karachi'}}"
      ]
     },
     "execution_count": 48,
     "metadata": {},
     "output_type": "execute_result"
    }
   ],
   "source": [
    "del person[\"address\"][\"zip\"]\n",
    "person"
   ]
  },
  {
   "cell_type": "code",
   "execution_count": null,
   "metadata": {},
   "outputs": [],
   "source": []
  },
  {
   "cell_type": "code",
   "execution_count": null,
   "metadata": {},
   "outputs": [],
   "source": []
  }
 ],
 "metadata": {
  "kernelspec": {
   "display_name": "Python 3",
   "language": "python",
   "name": "python3"
  },
  "language_info": {
   "codemirror_mode": {
    "name": "ipython",
    "version": 3
   },
   "file_extension": ".py",
   "mimetype": "text/x-python",
   "name": "python",
   "nbconvert_exporter": "python",
   "pygments_lexer": "ipython3",
   "version": "3.12.3"
  }
 },
 "nbformat": 4,
 "nbformat_minor": 2
}
